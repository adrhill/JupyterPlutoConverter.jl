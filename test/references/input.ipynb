{
 "cells": [
  {
   "attachments": {},
   "cell_type": "markdown",
   "id": "ebdabcf7-1922-4a0c-838a-86bac09ea423",
   "metadata": {},
   "source": [
    "# Test Notebook\n",
    "## Test Header\n",
    "\n",
    "This notebook is used to test JupyterPlutoConverter.jl.\n",
    "This is Markdown content with an equation: $x=1$"
   ]
  },
  {
   "cell_type": "code",
   "execution_count": 1,
   "id": "51812cc8-0e40-4a71-a5c1-bb63135dc8a0",
   "metadata": {},
   "outputs": [
    {
     "data": {
      "text/plain": [
       "1"
      ]
     },
     "metadata": {},
     "output_type": "display_data"
    }
   ],
   "source": [
    "foo = 1 # a simple code cell"
   ]
  },
  {
   "attachments": {},
   "cell_type": "markdown",
   "id": "16c6dd5f",
   "metadata": {},
   "source": [
    "The following code cell is used to test wrapping code in `begin ... end` blocks:"
   ]
  },
  {
   "cell_type": "code",
   "execution_count": 2,
   "id": "4ee418ea",
   "metadata": {},
   "outputs": [
    {
     "data": {
      "text/plain": [
       "6"
      ]
     },
     "metadata": {},
     "output_type": "display_data"
    }
   ],
   "source": [
    "# Code comment\n",
    "bar = 2\n",
    "bar *= 3"
   ]
  }
 ],
 "metadata": {
  "kernelspec": {
   "display_name": "Julia 1.9.0-beta4",
   "language": "julia",
   "name": "julia-1.9"
  },
  "language_info": {
   "file_extension": ".jl",
   "mimetype": "application/julia",
   "name": "julia",
   "version": "1.9.0-beta4"
  }
 },
 "nbformat": 4,
 "nbformat_minor": 5
}
