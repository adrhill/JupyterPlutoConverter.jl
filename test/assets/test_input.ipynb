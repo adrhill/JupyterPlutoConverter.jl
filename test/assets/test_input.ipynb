{
 "cells": [
  {
   "cell_type": "markdown",
   "id": "ebdabcf7-1922-4a0c-838a-86bac09ea423",
   "metadata": {},
   "source": [
    "# Notebook title\n",
    "## Header\n",
    "\n",
    "Markdown content with an equation: $x=1$"
   ]
  },
  {
   "cell_type": "code",
   "execution_count": null,
   "id": "51812cc8-0e40-4a71-a5c1-bb63135dc8a0",
   "metadata": {},
   "outputs": [],
   "source": [
    "# a simple code cell\n",
    "foo = 1"
   ]
  }
 ],
 "metadata": {
  "kernelspec": {
   "display_name": "Julia 1.8.5",
   "language": "julia",
   "name": "julia-1.8"
  },
  "language_info": {
   "name": ""
  }
 },
 "nbformat": 4,
 "nbformat_minor": 5
}
